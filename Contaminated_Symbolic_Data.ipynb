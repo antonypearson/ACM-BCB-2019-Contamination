{
 "cells": [
  {
   "cell_type": "code",
   "execution_count": 1,
   "metadata": {},
   "outputs": [],
   "source": [
    "import numpy as np\n",
    "import scipy.stats as ss\n",
    "from matplotlib import pyplot as plt\n",
    "np.random.seed(123)"
   ]
  },
  {
   "cell_type": "code",
   "execution_count": 2,
   "metadata": {},
   "outputs": [
    {
     "data": {
      "text/plain": [
       "[<matplotlib.lines.Line2D at 0x7f3329c41278>]"
      ]
     },
     "execution_count": 2,
     "metadata": {},
     "output_type": "execute_result"
    },
    {
     "data": {
      "image/png": "[encoded data removed]",
      "text/plain": [
       "<Figure size 432x288 with 1 Axes>"
      ]
     },
     "metadata": {
      "needs_background": "light"
     },
     "output_type": "display_data"
    }
   ],
   "source": [
    "### Simulating Newcomb's astronomical observations ###\n",
    "epsilon = 0.05 \n",
    "#For each observation there is a 5% chance it will originate from a higher-variance Gaussian distribution\n",
    "data100 = []\n",
    "for j in range(100):\n",
    "    if np.random.binomial(1,epsilon):\n",
    "        data100.append(np.random.normal(0,5*10**(-1/2)))\n",
    "    else:\n",
    "        data100.append(np.random.normal(0,10**(-1/2)))\n",
    "plt.clf()\n",
    "plt.hist(data100,density=True,bins=8)\n",
    "x = np.linspace(min(data100),max(data100),100)\n",
    "plt.plot(x,ss.norm.pdf(x,0,1/np.sqrt(10)),color='green',label='Idealized measurements')"
   ]
  },
  {
   "cell_type": "code",
   "execution_count": 3,
   "metadata": {},
   "outputs": [
    {
     "data": {
      "text/plain": [
       "(0.9881523251533508, 0.5195064544677734)"
      ]
     },
     "execution_count": 3,
     "metadata": {},
     "output_type": "execute_result"
    }
   ],
   "source": [
    "ss.shapiro(data100)\n",
    "#With a sample size of 100 the contaminated data appear almost indistinguishable from truly Gaussian data"
   ]
  },
  {
   "cell_type": "code",
   "execution_count": 5,
   "metadata": {},
   "outputs": [
    {
     "data": {
      "text/plain": [
       "[<matplotlib.lines.Line2D at 0x7f33298cc198>]"
      ]
     },
     "execution_count": 5,
     "metadata": {},
     "output_type": "execute_result"
    },
    {
     "data": {
      "image/png": "[encoded data removed]",
      "text/plain": [
       "<Figure size 432x288 with 1 Axes>"
      ]
     },
     "metadata": {
      "needs_background": "light"
     },
     "output_type": "display_data"
    }
   ],
   "source": [
    "data500 = []\n",
    "for j in range(500):\n",
    "    if np.random.binomial(1,epsilon):\n",
    "        data500.append(np.random.normal(0,5*10**(-1/2)))\n",
    "    else:\n",
    "        data500.append(np.random.normal(0,10**(-1/2)))\n",
    "plt.clf()\n",
    "plt.hist(data500,density=True,bins=10)\n",
    "x = np.linspace(min(data500),max(data500),100)\n",
    "plt.plot(x,ss.norm.pdf(x,0,1/np.sqrt(10)),color='green',label='Idealized measurements')\n"
   ]
  },
  {
   "cell_type": "code",
   "execution_count": 6,
   "metadata": {},
   "outputs": [
    {
     "data": {
      "text/plain": [
       "(0.8585590124130249, 8.114820331523497e-21)"
      ]
     },
     "execution_count": 6,
     "metadata": {},
     "output_type": "execute_result"
    }
   ],
   "source": [
    "ss.shapiro(data500)\n",
    "#With a larger sample data can be easily distinguished from Gaussian"
   ]
  },
  {
   "cell_type": "code",
   "execution_count": null,
   "metadata": {},
   "outputs": [],
   "source": []
  },
  {
   "cell_type": "code",
   "execution_count": null,
   "metadata": {},
   "outputs": [],
   "source": []
  },
  {
   "cell_type": "code",
   "execution_count": 7,
   "metadata": {},
   "outputs": [],
   "source": [
    "np.random.seed(123)"
   ]
  },
  {
   "cell_type": "code",
   "execution_count": 8,
   "metadata": {},
   "outputs": [
    {
     "data": {
      "text/plain": [
       "(2.9671109169515635, 0.08497348399462727, 1, array([[ 7.22, 30.78],\n",
       "        [11.78, 50.22]]))"
      ]
     },
     "execution_count": 8,
     "metadata": {},
     "output_type": "execute_result"
    }
   ],
   "source": [
    "#Do X and Y appear independent?\n",
    "P = np.array([[0.1,0.3],[0.1,0.5]])\n",
    "data100 = np.random.multinomial(100,P.flatten())\n",
    "ss.chi2_contingency(data100.reshape((2,2))) #With n=100 P still looks independent!"
   ]
  },
  {
   "cell_type": "code",
   "execution_count": 9,
   "metadata": {},
   "outputs": [
    {
     "data": {
      "text/plain": [
       "(3.556970536241245, 0.0592958643677153, 1, array([[ 41.088, 150.912],\n",
       "        [ 65.912, 242.088]]))"
      ]
     },
     "execution_count": 9,
     "metadata": {},
     "output_type": "execute_result"
    }
   ],
   "source": [
    "data500 = np.random.multinomial(500,P.flatten())\n",
    "ss.chi2_contingency(data500.reshape((2,2))) \n",
    "#Still not particularly strong evidence against null hypothesis of independence, even with n=500!"
   ]
  },
  {
   "cell_type": "code",
   "execution_count": 10,
   "metadata": {},
   "outputs": [
    {
     "data": {
      "text/plain": [
       "(11.264995827170011, 0.0007898235789000834, 1, array([[ 74.108, 307.892],\n",
       "        [119.892, 498.108]]))"
      ]
     },
     "execution_count": 10,
     "metadata": {},
     "output_type": "execute_result"
    }
   ],
   "source": [
    "data1000 = np.random.multinomial(1000,P.flatten())\n",
    "ss.chi2_contingency(data1000.reshape((2,2)))\n",
    "#This seems like a very small p-value but may not be so significant with a multiple-hypothesis-test correction"
   ]
  },
  {
   "cell_type": "code",
   "execution_count": null,
   "metadata": {},
   "outputs": [],
   "source": []
  },
  {
   "cell_type": "code",
   "execution_count": null,
   "metadata": {},
   "outputs": [],
   "source": []
  },
  {
   "cell_type": "code",
   "execution_count": 11,
   "metadata": {},
   "outputs": [
    {
     "name": "stderr",
     "output_type": "stream",
     "text": [
      "/home/antony/anaconda3/lib/python3.7/site-packages/ipykernel_launcher.py:10: RuntimeWarning: divide by zero encountered in true_divide\n",
      "  # Remove the CWD from sys.path while we load stuff.\n",
      "/home/antony/anaconda3/lib/python3.7/site-packages/ipykernel_launcher.py:11: RuntimeWarning: divide by zero encountered in true_divide\n",
      "  # This is added back by InteractiveShellApp.init_path()\n"
     ]
    }
   ],
   "source": [
    "#Let's put a 1% grid over the independent distributions on {0,1}^2\n",
    "p_x = np.linspace(0,1,100)\n",
    "p_y = np.linspace(0,1,100)\n",
    "Lambda = 0.0\n",
    "Qprime = np.zeros((2,2))\n",
    "for i in range(100):\n",
    "    for j in range(100):\n",
    "        Q = np.array([[(1-p_x[i])*(1-p_y[j]),p_x[i]*(1-p_y[j])],[(1-p_x[i])*p_y[j],p_x[i]*p_y[j]]])\n",
    "        #Create the independent source Q with marginals p_x and p_y for each combination of p_x and p_y\n",
    "        if min((P/Q)[np.nonzero(Q)])>Lambda:\n",
    "            Lambda = min((P/Q)[np.nonzero(Q)])\n",
    "            #Compute the latent weight of the singleton {Q} in P, take the largest\n",
    "            Qprime = Q"
   ]
  },
  {
   "cell_type": "code",
   "execution_count": 12,
   "metadata": {},
   "outputs": [
    {
     "data": {
      "text/plain": [
       "0.9522930431403029"
      ]
     },
     "execution_count": 12,
     "metadata": {},
     "output_type": "execute_result"
    }
   ],
   "source": [
    "Lambda"
   ]
  },
  {
   "cell_type": "code",
   "execution_count": null,
   "metadata": {},
   "outputs": [],
   "source": []
  },
  {
   "cell_type": "code",
   "execution_count": null,
   "metadata": {},
   "outputs": [],
   "source": []
  },
  {
   "cell_type": "code",
   "execution_count": null,
   "metadata": {},
   "outputs": [],
   "source": []
  },
  {
   "cell_type": "code",
   "execution_count": null,
   "metadata": {},
   "outputs": [],
   "source": []
  },
  {
   "cell_type": "code",
   "execution_count": null,
   "metadata": {},
   "outputs": [],
   "source": []
  },
  {
   "cell_type": "code",
   "execution_count": null,
   "metadata": {},
   "outputs": [],
   "source": []
  },
  {
   "cell_type": "code",
   "execution_count": null,
   "metadata": {},
   "outputs": [],
   "source": []
  },
  {
   "cell_type": "code",
   "execution_count": null,
   "metadata": {},
   "outputs": [],
   "source": []
  },
  {
   "cell_type": "code",
   "execution_count": null,
   "metadata": {},
   "outputs": [],
   "source": []
  },
  {
   "cell_type": "code",
   "execution_count": null,
   "metadata": {},
   "outputs": [],
   "source": []
  },
  {
   "cell_type": "code",
   "execution_count": 13,
   "metadata": {},
   "outputs": [],
   "source": [
    "import binary_alphabet_independent_weight as iw\n",
    "import os\n",
    "\n",
    "samples = os.listdir('./TFBSData/')\n",
    "data = []\n",
    "for j in range(len(samples)):\n",
    "    f = open('./TFBSData/'+samples[j],'r')\n",
    "    data.append(f.readlines())\n",
    "    f.close()                      #Reading in k-mers for various transcription factors\n",
    "\n",
    "purPyrBinData = []\n",
    "for j in range(len(data)):\n",
    "    purPyrBinData.append(iw.DNASeq2Phat(data[j])) #For each transcription factor, say data are length d strings\n",
    "                                                    #gives the empirical distribution over {purine,pyrimidine}^d\n",
    "    \n",
    "\n",
    "short_targets = [x for x in purPyrBinData if 4<len(x)<=32] #Look only at 3,4 and 5-mers (computational efficiency)\n",
    "short_target_indices = [i for i in range(len(purPyrBinData)) if 4<len(purPyrBinData[i])<=32]"
   ]
  },
  {
   "cell_type": "code",
   "execution_count": 14,
   "metadata": {},
   "outputs": [
    {
     "name": "stdout",
     "output_type": "stream",
     "text": [
      "(array([0.81886024]), [1.0, 0.014705882354015766, 0.0, 0.9436619718308022])\n",
      "(array([0.75605536]), [0.26086956521739135, 0.10526315789473681, 0.0, 1.0, 0.0])\n",
      "(array([1.]), [0.0, 0.0, 0.0, 0.0, 0.8750000000000001])\n",
      "(array([0.83568678]), [0.3870967741935477, 0.09523809523809444, 0.0, 1.0, 0.0])\n",
      "(array([1.]), [0.0, 0.0, 0.0, 0.0, 0.8])\n",
      "(array([1.]), [1.0, 0.0, 0.0, 1.0, 0.0])\n",
      "(array([0.66895369]), [0.15384615384858555, 0.0, 0.0, 1.0, 0.26666666666641964])\n",
      "(array([0.99521531]), [0.6875000000008926, 0.15384615384608724, 0.0, 1.0, 0.0])\n",
      "(array([0.98305085]), [0.034482758620725106, 0.0, 1.0, 1.0, 0.0])\n"
     ]
    }
   ],
   "source": [
    "for P in short_targets:\n",
    "    print(iw.numerical_ind_weight(P)) #compute independent weight & associated marginal probs for each short TFBS"
   ]
  },
  {
   "cell_type": "code",
   "execution_count": null,
   "metadata": {},
   "outputs": [],
   "source": []
  },
  {
   "cell_type": "code",
   "execution_count": null,
   "metadata": {},
   "outputs": [],
   "source": []
  },
  {
   "cell_type": "code",
   "execution_count": null,
   "metadata": {},
   "outputs": [],
   "source": [
    "#Approximate the i.i.d. weight of each TFBS by making a grid over P({A,C,G,T})\n",
    "\n",
    "import simplex_grid as sg\n",
    "import iid_weight as iid\n",
    "\n",
    "def numerical_iid_weight(P,d): #Approximate the i.i.d. weight using a 4%-grid over the i.i.d. distributions\n",
    "    k = 4\n",
    "    qs = sg.simplex_grid(k,20)/20.\n",
    "    Lambda = 0.0\n",
    "    Qprime = np.zeros(np.shape(P))\n",
    "    for j in range(len(qs)):\n",
    "        Q = iid.create_iid_source(qs[i],d)\n",
    "        if min((P/Q)[np.nonzero(Q)]):\n",
    "            Lambda = min((P/Q)[np.nonzero(Q)])\n",
    "            Qprime = Q\n",
    "    return Lambda\n",
    "\n",
    "'''samples = os.listdir('./TFBSData/')\n",
    "data = []\n",
    "for j in range(len(samples)):\n",
    "    f = open('./TFBSData/'+samples[j],'r')\n",
    "    data.append(f.readlines())\n",
    "    f.close()        \n",
    "\n",
    "empirical_dists,five_mer_indices = iid.k_less_than_five_mers2empirical_dist(data) '''"
   ]
  },
  {
   "cell_type": "code",
   "execution_count": null,
   "metadata": {
    "scrolled": true
   },
   "outputs": [],
   "source": [
    "'''TFBS_iid_weights = []\n",
    "for P in empirical_dists:\n",
    "    TFBS_iid_weights.append(numerical_iid_weight(P,int(np.log(len(P))/np.log(4))))'''"
   ]
  },
  {
   "cell_type": "code",
   "execution_count": null,
   "metadata": {},
   "outputs": [],
   "source": [
    "for P in purPyrBinData:\n",
    "    print(iid.iid_weight(P)[0]) #i.i.d. weights for TFBS where purines and pyrimidines are lumped"
   ]
  },
  {
   "cell_type": "code",
   "execution_count": null,
   "metadata": {},
   "outputs": [],
   "source": []
  },
  {
   "cell_type": "code",
   "execution_count": null,
   "metadata": {},
   "outputs": [],
   "source": []
  },
  {
   "cell_type": "code",
   "execution_count": null,
   "metadata": {},
   "outputs": [],
   "source": [
    "import poisson_weight as pois\n",
    "#Bortkiewicz's horse kick data\n",
    "horse_kick_deaths = np.array([144,91,32,11,2])\n",
    "mean = (0*144+1*91+2*32+3*11+4*2)/sum(horse_kick_deaths)\n",
    "expected = sum(horse_kick_deaths)*np.exp(-mean)*np.array([mean**0,mean**1/np.math.factorial(1),mean**2/np.math.factorial(2),\\\n",
    "                                  mean**3/np.math.factorial(3),mean**4/np.math.factorial(4)])\n",
    "ss.chisquare(horse_kick_deaths,expected)\n",
    "#These data look consistent with a Poisson distribution with rate 0.7"
   ]
  },
  {
   "cell_type": "code",
   "execution_count": null,
   "metadata": {},
   "outputs": [],
   "source": [
    "P = horse_kick_deaths/sum(horse_kick_deaths)\n",
    "print(pois.poisson_weight(P))\n",
    "#Indeed, almost all observations can be attributed to a Poisson(0.63) distribution "
   ]
  },
  {
   "cell_type": "code",
   "execution_count": null,
   "metadata": {},
   "outputs": [],
   "source": [
    "resampled_horse_kicks = np.random.multinomial(5000,P)\n",
    "resampled_P = resampled_horse_kicks/sum(resampled_horse_kicks)\n",
    "resampled_mean = np.dot(resampled_horse_kicks,[0,1,2,3,4])/sum(resampled_horse_kicks)\n",
    "resampled_expected = sum(resampled_horse_kicks)*np.exp(-resampled_mean)*np.array([1,resampled_mean,\\\n",
    "                                            resampled_mean**2/2,resampled_mean**3/6,resampled_mean**4/24])\n",
    "ss.chisquare(resampled_horse_kicks,resampled_expected)\n",
    "#With a larger sample size this no longer appears Poisson under a GOF test"
   ]
  },
  {
   "cell_type": "code",
   "execution_count": null,
   "metadata": {},
   "outputs": [],
   "source": [
    "print(pois.poisson_weight(resampled_P))\n",
    "#But most data can still be attributed to a Poisson(0.62) distribution"
   ]
  },
  {
   "cell_type": "code",
   "execution_count": null,
   "metadata": {},
   "outputs": [],
   "source": []
  },
  {
   "cell_type": "code",
   "execution_count": null,
   "metadata": {},
   "outputs": [],
   "source": []
  },
  {
   "cell_type": "code",
   "execution_count": null,
   "metadata": {},
   "outputs": [],
   "source": [
    "#Methylation data: How do we determine an adequate sample size? Looking at ``triplets'', Omega = {0,1}^3\n",
    "#Let's build a coarse grid over the set of exchangeable distributions (why?) and find the sample size necessary\n",
    "#for decently accurate estimation on the most pathological source\n",
    "\n",
    "np.random.seed(999)\n",
    "\n",
    "def exchangeable_weight(P):#Here, P is a source on {0,1}^3\n",
    "    return P[0]+3*min([P[1],P[2],P[4]])+3*min([P[3],P[5],P[6]])+P[7]\n",
    "\n",
    "E0 = np.array([1,0,0,0,0,0,0,0])\n",
    "E1 = np.array([0,1/3,1/3,0,1/3,0,0,0])\n",
    "E2 = np.array([0,0,0,1/3,0,1/3,1/3,0])\n",
    "E3 = np.array([0,0,0,0,0,0,0,1]) #Each of these is a uniform measure over one equivalence class [x]\n",
    "#When we form a mixture from them it will be exchangeable (all exchangeable distributions can be formed this way)\n",
    "mix_weights = sg.simplex_grid(4,20)/20.\n",
    "\n",
    "test_sources = []\n",
    "for weight in mix_weights:\n",
    "    test_sources.append(weight[0]*E0+weight[1]*E1+weight[2]*E2+weight[3]*E3)\n",
    "    \n",
    "#Is n=30 an adequate sample size?\n",
    "\n",
    "bias = []\n",
    "standard_error = []\n",
    "estimates = []\n",
    "for P in test_sources:\n",
    "    estimate = []\n",
    "    for k in range(100):\n",
    "        Phat = np.random.multinomial(30,P)/30.\n",
    "        estimate.append(exchangeable_weight(Phat))\n",
    "    bias.append(np.mean(estimate)-1)\n",
    "    standard_error.append(np.std(estimate))\n",
    "    estimates.append(estimate)"
   ]
  },
  {
   "cell_type": "code",
   "execution_count": null,
   "metadata": {},
   "outputs": [],
   "source": [
    "#Let's look at the worst case bias\n",
    "print(test_sources[np.argmin(bias)])\n",
    "plt.hist(estimates[np.argmin(bias)],bins=6,density=True)\n",
    "plt.xlim(0,1)"
   ]
  },
  {
   "cell_type": "code",
   "execution_count": null,
   "metadata": {},
   "outputs": [],
   "source": [
    "#Let's look at the worst case standard_error\n",
    "print(test_sources[np.argmax(standard_error)])\n",
    "plt.hist(estimates[np.argmax(standard_error)],density=True,bins=6)\n",
    "plt.xlim(0,1)\n",
    "#We expect the estimates to be close to 1 with high probability. This is clearly not a large enough n."
   ]
  },
  {
   "cell_type": "code",
   "execution_count": null,
   "metadata": {},
   "outputs": [],
   "source": [
    "#How about n=100?\n",
    "\n",
    "bias = []\n",
    "standard_error = []\n",
    "estimates = []\n",
    "for P in test_sources:\n",
    "    estimate = []\n",
    "    for k in range(100):\n",
    "        Phat = np.random.multinomial(100,P)/100.\n",
    "        estimate.append(exchangeable_weight(Phat))\n",
    "    bias.append(np.mean(estimate)-1)\n",
    "    standard_error.append(np.std(estimate))\n",
    "    estimates.append(estimate)"
   ]
  },
  {
   "cell_type": "code",
   "execution_count": null,
   "metadata": {},
   "outputs": [],
   "source": [
    "print(test_sources[np.argmin(bias)])\n",
    "plt.hist(estimates[np.argmin(bias)],density=True,bins=6)\n",
    "plt.xlim(0,1)"
   ]
  },
  {
   "cell_type": "code",
   "execution_count": null,
   "metadata": {},
   "outputs": [],
   "source": [
    "print(test_sources[np.argmax(standard_error)])\n",
    "plt.hist(estimates[np.argmax(standard_error)],density=True,bins=6)\n",
    "plt.xlim(0,1)\n",
    "#n=100 seems like a decent sample size but there are still several estimates close to 0.8 (want them close to 1).\n",
    "#How about correcting the bias by resampling?"
   ]
  },
  {
   "cell_type": "code",
   "execution_count": null,
   "metadata": {},
   "outputs": [],
   "source": [
    "#Take the worst-case-bias test source and correct its mean by Monte Carlo bootstrap-estimated bias\n",
    "P = test_sources[np.argmin(bias)]\n",
    "BS_corrected_estimates = []\n",
    "Lambdas = []\n",
    "BS_lambdas = []\n",
    "for k in range(100):\n",
    "    Phat = np.random.multinomial(100,P)/100.\n",
    "    Lambda = exchangeable_weight(Phat)\n",
    "    Lambdas.append(Lambda)\n",
    "    BS_estimates = []\n",
    "    for j in range(1000):\n",
    "        Phat_star = np.random.multinomial(100,Phat)/100.\n",
    "        BS_estimates.append(exchangeable_weight(Phat_star))\n",
    "    BS_lambdas.append(BS_estimates)\n",
    "\n",
    "corrected_lambdas = []\n",
    "for j in range(100):\n",
    "    corrected_lambdas.append(2*Lambdas[j]-np.mean(BS_lambdas[j]))\n",
    "plt.hist(Lambdas,density=True,bins=6,alpha=0.5,color='red',label=r'Uncorrected $\\hat\\lambda_{100}$')\n",
    "plt.hist(corrected_lambdas,density=True,bins=6,alpha=0.5,color='green',label=r'BS-corrected $\\hat\\lambda_{100}$')\n",
    "plt.legend(loc='upper left')\n",
    "plt.xlim(0,1)"
   ]
  },
  {
   "cell_type": "code",
   "execution_count": null,
   "metadata": {},
   "outputs": [],
   "source": [
    "#Let's see if a randomly selected source can have its exchangeable weight estimated accurately:\n",
    "P = np.random.dirichlet([1]*8)#Choosing a source uniformly at random from P({0,1}^3)\n",
    "Lambda = exchangeable_weight(P)\n",
    "Lambda_hats = []\n",
    "for j in range(100):\n",
    "    Phat = np.random.multinomial(100,P)/100.\n",
    "    Lambda_hat = exchangeable_weight(Phat)\n",
    "    resampled_lambdas = []\n",
    "    for j in range(1000):\n",
    "        Phat_star = np.random.multinomial(100,Phat)/100.\n",
    "        Lambda_star = exchangeable_weight(Phat_star)\n",
    "        resampled_lambdas.append(Lambda_star)\n",
    "    Lambda_hats.append(2*Lambda_hat-np.mean(resampled_lambdas))\n",
    "plt.xlim(0,1)\n",
    "plt.hist(Lambda_hats,density=True)\n",
    "plt.axvline(Lambda,color='red',linestyle='dashed')"
   ]
  },
  {
   "cell_type": "code",
   "execution_count": null,
   "metadata": {},
   "outputs": [],
   "source": []
  },
  {
   "cell_type": "code",
   "execution_count": null,
   "metadata": {},
   "outputs": [],
   "source": []
  }
 ],
 "metadata": {
  "kernelspec": {
   "display_name": "Python 3",
   "language": "python",
   "name": "python3"
  },
  "language_info": {
   "codemirror_mode": {
    "name": "ipython",
    "version": 3
   },
   "file_extension": ".py",
   "mimetype": "text/x-python",
   "name": "python",
   "nbconvert_exporter": "python",
   "pygments_lexer": "ipython3",
   "version": "3.7.1"
  }
 },
 "nbformat": 4,
 "nbformat_minor": 2
}
